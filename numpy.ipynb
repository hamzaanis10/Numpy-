{
 "cells": [
  {
   "cell_type": "code",
   "execution_count": 12,
   "metadata": {},
   "outputs": [
    {
     "name": "stdout",
     "output_type": "stream",
     "text": [
      "[[ 0  1  2  3]\n",
      " [ 4  5  6  7]\n",
      " [ 8  9 10 11]]\n",
      "(3, 4)\n",
      "2\n",
      "int32\n",
      "12\n",
      "4\n",
      "<class 'numpy.ndarray'>\n",
      "[10 20 30]\n",
      "<class 'numpy.ndarray'>\n"
     ]
    }
   ],
   "source": [
    "import numpy as np \n",
    "\n",
    "a = np.arange(12).reshape(3,4)\n",
    "print(a)\n",
    "print(a.shape)\n",
    "print(a.ndim)\n",
    "print(a.dtype)\n",
    "print(a.size)\n",
    "print(a.itemsize)\n",
    "print(type(a))\n",
    "b = np.array([10, 20, 30])\n",
    "print(b)\n",
    "print(type(b))"
   ]
  },
  {
   "cell_type": "code",
   "execution_count": 14,
   "metadata": {},
   "outputs": [
    {
     "name": "stdout",
     "output_type": "stream",
     "text": [
      "int32\n",
      "float64\n"
     ]
    }
   ],
   "source": [
    "b = np.array([10, 20, 30])\n",
    "print(b.dtype)\n",
    "\n",
    "c = np.array([1.3, 4.5, 6.7, 8.9])\n",
    "print(c.dtype)"
   ]
  },
  {
   "cell_type": "code",
   "execution_count": 16,
   "metadata": {},
   "outputs": [
    {
     "name": "stdout",
     "output_type": "stream",
     "text": [
      "[(2, 4, 6) (1, 3, 5, 7)]\n"
     ]
    }
   ],
   "source": [
    "d = np.array([(2,4,6), (1,3,5,7)])\n",
    "print(d)"
   ]
  },
  {
   "cell_type": "code",
   "execution_count": 17,
   "metadata": {},
   "outputs": [
    {
     "name": "stdout",
     "output_type": "stream",
     "text": [
      "[[1.+0.j 2.+0.j]\n",
      " [3.+0.j 4.+0.j]]\n"
     ]
    }
   ],
   "source": [
    "c = np.array( [ [1,2], [3,4] ], dtype=complex )\n",
    "print(c)"
   ]
  },
  {
   "cell_type": "code",
   "execution_count": 18,
   "metadata": {},
   "outputs": [
    {
     "name": "stdout",
     "output_type": "stream",
     "text": [
      "[[   0    1    2 ...   97   98   99]\n",
      " [ 100  101  102 ...  197  198  199]\n",
      " [ 200  201  202 ...  297  298  299]\n",
      " ...\n",
      " [9700 9701 9702 ... 9797 9798 9799]\n",
      " [9800 9801 9802 ... 9897 9898 9899]\n",
      " [9900 9901 9902 ... 9997 9998 9999]]\n"
     ]
    }
   ],
   "source": [
    "print(np.arange(10000).reshape(100,100))"
   ]
  },
  {
   "cell_type": "code",
   "execution_count": 25,
   "metadata": {},
   "outputs": [
    {
     "name": "stdout",
     "output_type": "stream",
     "text": [
      "[20 29 38 47]\n",
      "[ 0.91294525 -0.66363388  0.29636858  0.12357312]\n",
      "[ True  True  True  True]\n"
     ]
    }
   ],
   "source": [
    "e = np.array([20,30,40,50])\n",
    "f = np.arange(4)\n",
    "\n",
    "g = e-f\n",
    "print(g)\n",
    "print(np.sin(g))\n",
    "print(f < e)"
   ]
  },
  {
   "cell_type": "code",
   "execution_count": 31,
   "metadata": {},
   "outputs": [
    {
     "name": "stdout",
     "output_type": "stream",
     "text": [
      "[[ 5 12]\n",
      " [21 32]]\n",
      "[[19 22]\n",
      " [43 50]]\n"
     ]
    }
   ],
   "source": [
    "A = np.array([[1,2],\n",
    "              [3,4]])\n",
    "\n",
    "B = np.array([[5,6],\n",
    "              [7,8]])\n",
    "\n",
    "print(A*B)\n",
    "print(A@B)\n"
   ]
  },
  {
   "cell_type": "code",
   "execution_count": 18,
   "metadata": {},
   "outputs": [
    {
     "name": "stdout",
     "output_type": "stream",
     "text": [
      "[  0   1   8  27  64 125 216 343 512 729] \n",
      "\n",
      "8 \n",
      "\n",
      "2 \n",
      "\n",
      "[  2   1   2  27   2 125   2 343   2 729] \n",
      "\n",
      "[729, 2, 343, 2, 125, 2, 27, 2, 1, 2] \n",
      "\n",
      "8.824977827076287\n",
      "77.8802336483881\n",
      "278.3775777503137\n",
      "687.2913351145455\n",
      "1385.4557313670107\n"
     ]
    }
   ],
   "source": [
    "# Indexing, Slicing and Iterating\n",
    "import numpy as np \n",
    "from math import pi\n",
    "\n",
    "C = np.arange(10)**3\n",
    "print(C, \"\\n\")\n",
    "\n",
    "print(C[2], \"\\n\")\n",
    "\n",
    "n = C[: : 2] = 2\n",
    "print(n, \"\\n\")\n",
    "\n",
    "print(C, \"\\n\")\n",
    "\n",
    "m = C[: : -1]\n",
    "print(list(m), \"\\n\")\n",
    "\n",
    "D = np.array([2,4,6,8,10])\n",
    "\n",
    "for i in D:\n",
    "    print(i**(pi))"
   ]
  },
  {
   "cell_type": "code",
   "execution_count": 21,
   "metadata": {},
   "outputs": [
    {
     "name": "stdout",
     "output_type": "stream",
     "text": [
      "[[ 0  1  2  3  4]\n",
      " [ 5  6  7  8  9]\n",
      " [10 11 12 13 14]\n",
      " [15 16 17 18 19]\n",
      " [20 21 22 23 24]] \n",
      "\n",
      "['Umar' 'Umair' 'Nouroz' 'Ali' 'Umar'] \n",
      "\n",
      "[ True False False False  True] \n",
      "\n",
      "[[ 0  1  2  3  4]\n",
      " [20 21 22 23 24]] \n",
      "\n",
      "[[ 5  6  7  8  9]\n",
      " [10 11 12 13 14]\n",
      " [15 16 17 18 19]] \n",
      "\n",
      "['Ali' 'Nouroz' 'Umair' 'Umar'] \n",
      "\n"
     ]
    }
   ],
   "source": [
    "#boolean example --imp- the number of array and names shoule be same\n",
    "\n",
    "namesArr = np.array([\"Umar\", \"Umair\", \"Nouroz\", \"Ali\",\"Umar\"])\n",
    "\n",
    "numArr = np.arange(25).reshape(5,5)\n",
    "\n",
    "print(numArr , '\\n')\n",
    "\n",
    "print(namesArr , '\\n')\n",
    "\n",
    "print(namesArr == \"Umar\" , '\\n')\n",
    "\n",
    "print(numArr[namesArr==\"Umar\"] , '\\n')\n",
    "\n",
    "print(numArr[~(namesArr==\"Umar\")], '\\n')\n",
    "\n",
    "print(np.unique(namesArr),'\\n')"
   ]
  },
  {
   "cell_type": "code",
   "execution_count": 54,
   "metadata": {},
   "outputs": [
    {
     "name": "stdout",
     "output_type": "stream",
     "text": [
      "[[ 0  1  2]\n",
      " [10 11 12]\n",
      " [20 21 22]\n",
      " [30 31 32]] \n",
      "\n",
      "30 \n",
      "\n",
      "[ 2 12 22 32] \n",
      "\n",
      "[ 2 12 22 32] \n",
      "\n",
      "[30 31 32] \n",
      "\n",
      "[ 2 12 22 32]\n"
     ]
    }
   ],
   "source": [
    "# Multidimensional arrays can have one index per axis. These indices are given in a tuple separated by commas:\n",
    "import numpy as np \n",
    "\n",
    "def function(x,y):\n",
    "    return 10 * x+y\n",
    "\n",
    "v = np.fromfunction(function,(4,3), dtype = int)\n",
    "print(v, \"\\n\")\n",
    "\n",
    "print(v[3,0], \"\\n\")\n",
    "\n",
    "print(v[0:4, 2], \"\\n\") # another method for achieving the same result \n",
    "# column access ke liye colon nh aega sirf column define krna hai just like note agr colun aya to wo row hojaegi \n",
    "\n",
    "print(v[ : , 2], \"\\n\")\n",
    "\n",
    "print(v[-1], \"\\n\")\n",
    "\n",
    "print(v[0:4, : ]) # Row access ke liye colon aega 2nd argument mai ke ap kha se kha tk chahte ho numbers \n"
   ]
  },
  {
   "cell_type": "code",
   "execution_count": 77,
   "metadata": {},
   "outputs": [
    {
     "name": "stdout",
     "output_type": "stream",
     "text": [
      "[[11. 15.  3.  4.]\n",
      " [ 2.  1.  1. 18.]\n",
      " [ 9. 13.  4.  7.]] \n",
      "\n",
      "[11. 15.  3.  4.  2.  1.  1. 18.  9. 13.  4.  7.] \n",
      "\n",
      "[[11. 15.]\n",
      " [ 3.  4.]\n",
      " [ 2.  1.]\n",
      " [ 1. 18.]\n",
      " [ 9. 13.]\n",
      " [ 4.  7.]] \n",
      "\n",
      "[[11.  2.  9.]\n",
      " [15.  1. 13.]\n",
      " [ 3.  1.  4.]\n",
      " [ 4. 18.  7.]] \n",
      "\n",
      "[[11.  3.  2.  1.  9.  4.]\n",
      " [15.  4.  1. 18. 13.  7.]] \n",
      "\n",
      "(2, 6) \n",
      "\n",
      "(3, 4) \n",
      "\n",
      "[[11. 15.  3.  4.]\n",
      " [ 2.  1.  1. 18.]\n",
      " [ 9. 13.  4.  7.]]\n"
     ]
    }
   ],
   "source": [
    "# Shape Manipulation\n",
    "# Changing the shape of an array\n",
    "\n",
    "import numpy as np \n",
    "\n",
    "y = np.floor(20*np.random.random((3,4)))\n",
    "print(y, \"\\n\")\n",
    "\n",
    "print(y.ravel(), \"\\n\")\n",
    "\n",
    "t = y.reshape(6,2)\n",
    "print(t, \"\\n\")\n",
    "\n",
    "print(y.T, \"\\n\")\n",
    "\n",
    "print(t.T, \"\\n\")\n",
    "\n",
    "print(t.T.shape, \"\\n\")\n",
    "\n",
    "print(y.shape, \"\\n\")\n",
    "\n",
    "print(y)"
   ]
  },
  {
   "cell_type": "code",
   "execution_count": 91,
   "metadata": {},
   "outputs": [
    {
     "name": "stdout",
     "output_type": "stream",
     "text": [
      "[[6. 0.]\n",
      " [8. 3.]] \n",
      "\n",
      "[[21.  9.]\n",
      " [24. 11.]] \n",
      "\n",
      "[[ 6.  0.]\n",
      " [ 8.  3.]\n",
      " [21.  9.]\n",
      " [24. 11.]] \n",
      "\n",
      "[[ 6.  0. 21.  9.]\n",
      " [ 8.  3. 24. 11.]] \n",
      "\n"
     ]
    }
   ],
   "source": [
    "# Stacking together different arrays\n",
    "import numpy as np \n",
    "\n",
    "a = np.floor(10 * np.random.random((2,2)))\n",
    "\n",
    "b = np.floor(30 * np.random.random((2,2)))\n",
    "\n",
    "print(a, \"\\n\")\n",
    "\n",
    "print(b, \"\\n\")\n",
    "\n",
    "c = np.vstack((a,b)) # row_stack OR vstack 2 method for vertical stack\n",
    "print(c, \"\\n\")\n",
    "\n",
    "d = np.column_stack((a,b)) # column_stack OR hstack 2 method for horizontal stack\n",
    "print(d, \"\\n\")\n",
    "\n",
    "\n"
   ]
  },
  {
   "cell_type": "code",
   "execution_count": 95,
   "metadata": {},
   "outputs": [
    {
     "name": "stdout",
     "output_type": "stream",
     "text": [
      "True\n",
      "(3, 4)\n"
     ]
    }
   ],
   "source": [
    "import numpy as np \n",
    "\n",
    "a = np.arange(12)\n",
    "\n",
    "b = a \n",
    "\n",
    "print(b is a)\n",
    "\n",
    "b.shape = 3,4\n",
    "\n",
    "print(a.shape)"
   ]
  },
  {
   "cell_type": "code",
   "execution_count": null,
   "metadata": {},
   "outputs": [],
   "source": []
  }
 ],
 "metadata": {
  "kernelspec": {
   "display_name": "Python 3",
   "language": "python",
   "name": "python3"
  },
  "language_info": {
   "codemirror_mode": {
    "name": "ipython",
    "version": 3
   },
   "file_extension": ".py",
   "mimetype": "text/x-python",
   "name": "python",
   "nbconvert_exporter": "python",
   "pygments_lexer": "ipython3",
   "version": "3.7.3"
  }
 },
 "nbformat": 4,
 "nbformat_minor": 2
}
